{
 "cells": [
  {
   "cell_type": "code",
   "execution_count": 1,
   "metadata": {
    "colab": {},
    "colab_type": "code",
    "id": "bMFTnw3987qS"
   },
   "outputs": [
    {
     "ename": "ModuleNotFoundError",
     "evalue": "No module named 'tensorflow'",
     "output_type": "error",
     "traceback": [
      "\u001b[0;31m---------------------------------------------------------------------------\u001b[0m",
      "\u001b[0;31mModuleNotFoundError\u001b[0m                       Traceback (most recent call last)",
      "\u001b[0;32m<ipython-input-1-bd575705504b>\u001b[0m in \u001b[0;36m<module>\u001b[0;34m\u001b[0m\n\u001b[1;32m      1\u001b[0m \u001b[0;32mimport\u001b[0m \u001b[0mpandas\u001b[0m \u001b[0;32mas\u001b[0m \u001b[0mpd\u001b[0m\u001b[0;34m\u001b[0m\u001b[0;34m\u001b[0m\u001b[0m\n\u001b[1;32m      2\u001b[0m \u001b[0;32mimport\u001b[0m \u001b[0mmatplotlib\u001b[0m\u001b[0;34m.\u001b[0m\u001b[0mpyplot\u001b[0m \u001b[0;32mas\u001b[0m \u001b[0mplt\u001b[0m\u001b[0;34m\u001b[0m\u001b[0;34m\u001b[0m\u001b[0m\n\u001b[0;32m----> 3\u001b[0;31m \u001b[0;32mimport\u001b[0m \u001b[0mtensorflow\u001b[0m \u001b[0;32mas\u001b[0m \u001b[0mtf\u001b[0m\u001b[0;34m\u001b[0m\u001b[0;34m\u001b[0m\u001b[0m\n\u001b[0m",
      "\u001b[0;31mModuleNotFoundError\u001b[0m: No module named 'tensorflow'"
     ]
    }
   ],
   "source": [
    "import pandas as pd\n",
    "import matplotlib.pyplot as plt\n",
    "import tensorflow as tf"
   ]
  },
  {
   "cell_type": "code",
   "execution_count": null,
   "metadata": {
    "colab": {},
    "colab_type": "code",
    "id": "Xux8rEYG9Kiu"
   },
   "outputs": [],
   "source": [
    "# credit_train = pd.read_csv('data/credit_train.csv') # ini dipake waktu di Jupyter Notebook\n",
    "credit_train = pd.read_csv('./credit_train.csv')"
   ]
  },
  {
   "cell_type": "code",
   "execution_count": 2,
   "metadata": {
    "colab": {
     "base_uri": "https://localhost:8080/",
     "height": 530
    },
    "colab_type": "code",
    "id": "6ZNwiDo69V-B",
    "outputId": "478e30e6-e123-4ac6-d69d-1d17d4342d4e"
   },
   "outputs": [
    {
     "ename": "NameError",
     "evalue": "name 'credit_train' is not defined",
     "output_type": "error",
     "traceback": [
      "\u001b[0;31m---------------------------------------------------------------------------\u001b[0m",
      "\u001b[0;31mNameError\u001b[0m                                 Traceback (most recent call last)",
      "\u001b[0;32m<ipython-input-2-6f02b3b305d4>\u001b[0m in \u001b[0;36m<module>\u001b[0;34m\u001b[0m\n\u001b[0;32m----> 1\u001b[0;31m \u001b[0mcredit_train\u001b[0m\u001b[0;34m.\u001b[0m\u001b[0mhead\u001b[0m\u001b[0;34m(\u001b[0m\u001b[0;34m)\u001b[0m\u001b[0;34m\u001b[0m\u001b[0;34m\u001b[0m\u001b[0m\n\u001b[0m",
      "\u001b[0;31mNameError\u001b[0m: name 'credit_train' is not defined"
     ]
    }
   ],
   "source": [
    "credit_train.head()"
   ]
  },
  {
   "cell_type": "code",
   "execution_count": 13,
   "metadata": {
    "colab": {
     "base_uri": "https://localhost:8080/",
     "height": 351
    },
    "colab_type": "code",
    "id": "4GuqHx_J9Y_H",
    "outputId": "f97c068f-dc9f-4018-bcd3-2aa72172afdd"
   },
   "outputs": [
    {
     "data": {
      "text/html": [
       "<div>\n",
       "<style scoped>\n",
       "    .dataframe tbody tr th:only-of-type {\n",
       "        vertical-align: middle;\n",
       "    }\n",
       "\n",
       "    .dataframe tbody tr th {\n",
       "        vertical-align: top;\n",
       "    }\n",
       "\n",
       "    .dataframe thead th {\n",
       "        text-align: right;\n",
       "    }\n",
       "</style>\n",
       "<table border=\"1\" class=\"dataframe\">\n",
       "  <thead>\n",
       "    <tr style=\"text-align: right;\">\n",
       "      <th></th>\n",
       "      <th>Current Loan Amount</th>\n",
       "      <th>Credit Score</th>\n",
       "      <th>Annual Income</th>\n",
       "      <th>Monthly Debt</th>\n",
       "      <th>Years of Credit History</th>\n",
       "      <th>Months since last delinquent</th>\n",
       "      <th>Number of Open Accounts</th>\n",
       "      <th>Number of Credit Problems</th>\n",
       "      <th>Current Credit Balance</th>\n",
       "      <th>Maximum Open Credit</th>\n",
       "      <th>Bankruptcies</th>\n",
       "      <th>Tax Liens</th>\n",
       "    </tr>\n",
       "  </thead>\n",
       "  <tbody>\n",
       "    <tr>\n",
       "      <th>count</th>\n",
       "      <td>1.672800e+04</td>\n",
       "      <td>13500.000000</td>\n",
       "      <td>1.350000e+04</td>\n",
       "      <td>16728.000000</td>\n",
       "      <td>16728.000000</td>\n",
       "      <td>7783.000000</td>\n",
       "      <td>16727.000000</td>\n",
       "      <td>16727.000000</td>\n",
       "      <td>1.672700e+04</td>\n",
       "      <td>1.672700e+04</td>\n",
       "      <td>16690.000000</td>\n",
       "      <td>16725.000000</td>\n",
       "    </tr>\n",
       "    <tr>\n",
       "      <th>mean</th>\n",
       "      <td>1.161191e+07</td>\n",
       "      <td>1095.057333</td>\n",
       "      <td>1.375492e+06</td>\n",
       "      <td>18511.215811</td>\n",
       "      <td>18.184613</td>\n",
       "      <td>35.257484</td>\n",
       "      <td>11.163628</td>\n",
       "      <td>0.169965</td>\n",
       "      <td>2.969438e+05</td>\n",
       "      <td>8.056894e+05</td>\n",
       "      <td>0.119173</td>\n",
       "      <td>0.028939</td>\n",
       "    </tr>\n",
       "    <tr>\n",
       "      <th>std</th>\n",
       "      <td>3.160332e+07</td>\n",
       "      <td>1510.342503</td>\n",
       "      <td>9.042524e+05</td>\n",
       "      <td>12266.131005</td>\n",
       "      <td>6.927438</td>\n",
       "      <td>22.095189</td>\n",
       "      <td>5.031939</td>\n",
       "      <td>0.475754</td>\n",
       "      <td>4.347030e+05</td>\n",
       "      <td>7.315384e+06</td>\n",
       "      <td>0.349963</td>\n",
       "      <td>0.240832</td>\n",
       "    </tr>\n",
       "    <tr>\n",
       "      <th>min</th>\n",
       "      <td>1.124200e+04</td>\n",
       "      <td>586.000000</td>\n",
       "      <td>9.703300e+04</td>\n",
       "      <td>0.000000</td>\n",
       "      <td>3.600000</td>\n",
       "      <td>0.000000</td>\n",
       "      <td>1.000000</td>\n",
       "      <td>0.000000</td>\n",
       "      <td>0.000000e+00</td>\n",
       "      <td>0.000000e+00</td>\n",
       "      <td>0.000000</td>\n",
       "      <td>0.000000</td>\n",
       "    </tr>\n",
       "    <tr>\n",
       "      <th>25%</th>\n",
       "      <td>1.795640e+05</td>\n",
       "      <td>705.000000</td>\n",
       "      <td>8.467160e+05</td>\n",
       "      <td>10125.337500</td>\n",
       "      <td>13.500000</td>\n",
       "      <td>16.000000</td>\n",
       "      <td>8.000000</td>\n",
       "      <td>0.000000</td>\n",
       "      <td>1.117295e+05</td>\n",
       "      <td>2.721180e+05</td>\n",
       "      <td>0.000000</td>\n",
       "      <td>0.000000</td>\n",
       "    </tr>\n",
       "    <tr>\n",
       "      <th>50%</th>\n",
       "      <td>3.139950e+05</td>\n",
       "      <td>724.000000</td>\n",
       "      <td>1.169089e+06</td>\n",
       "      <td>16246.330000</td>\n",
       "      <td>16.900000</td>\n",
       "      <td>32.000000</td>\n",
       "      <td>10.000000</td>\n",
       "      <td>0.000000</td>\n",
       "      <td>2.098360e+05</td>\n",
       "      <td>4.665100e+05</td>\n",
       "      <td>0.000000</td>\n",
       "      <td>0.000000</td>\n",
       "    </tr>\n",
       "    <tr>\n",
       "      <th>75%</th>\n",
       "      <td>5.234185e+05</td>\n",
       "      <td>741.000000</td>\n",
       "      <td>1.643619e+06</td>\n",
       "      <td>24089.340000</td>\n",
       "      <td>21.600000</td>\n",
       "      <td>52.000000</td>\n",
       "      <td>14.000000</td>\n",
       "      <td>0.000000</td>\n",
       "      <td>3.697590e+05</td>\n",
       "      <td>7.873910e+05</td>\n",
       "      <td>0.000000</td>\n",
       "      <td>0.000000</td>\n",
       "    </tr>\n",
       "    <tr>\n",
       "      <th>max</th>\n",
       "      <td>1.000000e+08</td>\n",
       "      <td>7510.000000</td>\n",
       "      <td>3.083900e+07</td>\n",
       "      <td>205801.350000</td>\n",
       "      <td>65.000000</td>\n",
       "      <td>152.000000</td>\n",
       "      <td>48.000000</td>\n",
       "      <td>7.000000</td>\n",
       "      <td>3.287897e+07</td>\n",
       "      <td>6.324777e+08</td>\n",
       "      <td>5.000000</td>\n",
       "      <td>6.000000</td>\n",
       "    </tr>\n",
       "  </tbody>\n",
       "</table>\n",
       "</div>"
      ],
      "text/plain": [
       "       Current Loan Amount  Credit Score  ...  Bankruptcies     Tax Liens\n",
       "count         1.672800e+04  13500.000000  ...  16690.000000  16725.000000\n",
       "mean          1.161191e+07   1095.057333  ...      0.119173      0.028939\n",
       "std           3.160332e+07   1510.342503  ...      0.349963      0.240832\n",
       "min           1.124200e+04    586.000000  ...      0.000000      0.000000\n",
       "25%           1.795640e+05    705.000000  ...      0.000000      0.000000\n",
       "50%           3.139950e+05    724.000000  ...      0.000000      0.000000\n",
       "75%           5.234185e+05    741.000000  ...      0.000000      0.000000\n",
       "max           1.000000e+08   7510.000000  ...      5.000000      6.000000\n",
       "\n",
       "[8 rows x 12 columns]"
      ]
     },
     "execution_count": 13,
     "metadata": {
      "tags": []
     },
     "output_type": "execute_result"
    }
   ],
   "source": [
    "credit_train.describe()"
   ]
  },
  {
   "cell_type": "code",
   "execution_count": 14,
   "metadata": {
    "colab": {
     "base_uri": "https://localhost:8080/",
     "height": 485
    },
    "colab_type": "code",
    "id": "G3KLPuq79fp0",
    "outputId": "798763e5-54d4-487c-9ab8-90ebdefb2d42"
   },
   "outputs": [
    {
     "name": "stdout",
     "output_type": "stream",
     "text": [
      "<class 'pandas.core.frame.DataFrame'>\n",
      "RangeIndex: 16728 entries, 0 to 16727\n",
      "Data columns (total 19 columns):\n",
      " #   Column                        Non-Null Count  Dtype  \n",
      "---  ------                        --------------  -----  \n",
      " 0   Loan ID                       16728 non-null  object \n",
      " 1   Customer ID                   16728 non-null  object \n",
      " 2   Loan Status                   16728 non-null  object \n",
      " 3   Current Loan Amount           16728 non-null  int64  \n",
      " 4   Term                          16728 non-null  object \n",
      " 5   Credit Score                  13500 non-null  float64\n",
      " 6   Annual Income                 13500 non-null  float64\n",
      " 7   Years in current job          16024 non-null  object \n",
      " 8   Home Ownership                16728 non-null  object \n",
      " 9   Purpose                       16728 non-null  object \n",
      " 10  Monthly Debt                  16728 non-null  float64\n",
      " 11  Years of Credit History       16728 non-null  float64\n",
      " 12  Months since last delinquent  7783 non-null   float64\n",
      " 13  Number of Open Accounts       16727 non-null  float64\n",
      " 14  Number of Credit Problems     16727 non-null  float64\n",
      " 15  Current Credit Balance        16727 non-null  float64\n",
      " 16  Maximum Open Credit           16727 non-null  float64\n",
      " 17  Bankruptcies                  16690 non-null  float64\n",
      " 18  Tax Liens                     16725 non-null  float64\n",
      "dtypes: float64(11), int64(1), object(7)\n",
      "memory usage: 2.4+ MB\n"
     ]
    }
   ],
   "source": [
    "credit_train.info()"
   ]
  },
  {
   "cell_type": "markdown",
   "metadata": {
    "colab_type": "text",
    "id": "GmZtz5qE9rbA"
   },
   "source": [
    "# **PART 1**: Preprocessing Data"
   ]
  },
  {
   "cell_type": "code",
   "execution_count": 0,
   "metadata": {
    "colab": {},
    "colab_type": "code",
    "id": "288raXgP9vxL"
   },
   "outputs": [],
   "source": [
    "y = credit_train[\"Loan Status\"]\n",
    "x = credit_train.drop(\"Loan Status\", axis=1)"
   ]
  },
  {
   "cell_type": "code",
   "execution_count": 0,
   "metadata": {
    "colab": {},
    "colab_type": "code",
    "id": "L8lVGSbICthV"
   },
   "outputs": [],
   "source": [
    "from sklearn.model_selection import train_test_split\n",
    "x_train, x_test, y_train, y_test = train_test_split(x, y, test_size=0.2)"
   ]
  },
  {
   "cell_type": "code",
   "execution_count": 24,
   "metadata": {
    "colab": {
     "base_uri": "https://localhost:8080/",
     "height": 467
    },
    "colab_type": "code",
    "id": "SoqbiAC8DQr5",
    "outputId": "acd118bb-6e76-45f7-d3f8-112f5775b17b"
   },
   "outputs": [
    {
     "name": "stdout",
     "output_type": "stream",
     "text": [
      "<class 'pandas.core.frame.DataFrame'>\n",
      "Int64Index: 13382 entries, 2188 to 1054\n",
      "Data columns (total 18 columns):\n",
      " #   Column                        Non-Null Count  Dtype  \n",
      "---  ------                        --------------  -----  \n",
      " 0   Loan ID                       13382 non-null  object \n",
      " 1   Customer ID                   13382 non-null  object \n",
      " 2   Current Loan Amount           13382 non-null  int64  \n",
      " 3   Term                          13382 non-null  object \n",
      " 4   Credit Score                  10805 non-null  float64\n",
      " 5   Annual Income                 10805 non-null  float64\n",
      " 6   Years in current job          12820 non-null  object \n",
      " 7   Home Ownership                13382 non-null  object \n",
      " 8   Purpose                       13382 non-null  object \n",
      " 9   Monthly Debt                  13382 non-null  float64\n",
      " 10  Years of Credit History       13382 non-null  float64\n",
      " 11  Months since last delinquent  6193 non-null   float64\n",
      " 12  Number of Open Accounts       13382 non-null  float64\n",
      " 13  Number of Credit Problems     13382 non-null  float64\n",
      " 14  Current Credit Balance        13382 non-null  float64\n",
      " 15  Maximum Open Credit           13382 non-null  float64\n",
      " 16  Bankruptcies                  13355 non-null  float64\n",
      " 17  Tax Liens                     13380 non-null  float64\n",
      "dtypes: float64(11), int64(1), object(6)\n",
      "memory usage: 1.9+ MB\n"
     ]
    }
   ],
   "source": [
    "x_train.info()"
   ]
  },
  {
   "cell_type": "markdown",
   "metadata": {
    "colab_type": "text",
    "id": "EEidDVctFL4R"
   },
   "source": [
    "Data yang masih bolong (Incomplete Data) in Train Dataset:\n",
    "1.   Credit Score\n",
    "2.   Annual Income\n",
    "3.   Years in current job\n",
    "4.   Months since last delinquent\n",
    "5.   Bankruptcies\n",
    "6.   Tax Liens\n",
    "\n"
   ]
  },
  {
   "cell_type": "code",
   "execution_count": 25,
   "metadata": {
    "colab": {
     "base_uri": "https://localhost:8080/",
     "height": 467
    },
    "colab_type": "code",
    "id": "1jHS2e6gEEOS",
    "outputId": "b9e252f0-5adf-499f-9040-f1071d92bfbe"
   },
   "outputs": [
    {
     "name": "stdout",
     "output_type": "stream",
     "text": [
      "<class 'pandas.core.frame.DataFrame'>\n",
      "Int64Index: 3346 entries, 11025 to 9087\n",
      "Data columns (total 18 columns):\n",
      " #   Column                        Non-Null Count  Dtype  \n",
      "---  ------                        --------------  -----  \n",
      " 0   Loan ID                       3346 non-null   object \n",
      " 1   Customer ID                   3346 non-null   object \n",
      " 2   Current Loan Amount           3346 non-null   int64  \n",
      " 3   Term                          3346 non-null   object \n",
      " 4   Credit Score                  2695 non-null   float64\n",
      " 5   Annual Income                 2695 non-null   float64\n",
      " 6   Years in current job          3204 non-null   object \n",
      " 7   Home Ownership                3346 non-null   object \n",
      " 8   Purpose                       3346 non-null   object \n",
      " 9   Monthly Debt                  3346 non-null   float64\n",
      " 10  Years of Credit History       3346 non-null   float64\n",
      " 11  Months since last delinquent  1590 non-null   float64\n",
      " 12  Number of Open Accounts       3345 non-null   float64\n",
      " 13  Number of Credit Problems     3345 non-null   float64\n",
      " 14  Current Credit Balance        3345 non-null   float64\n",
      " 15  Maximum Open Credit           3345 non-null   float64\n",
      " 16  Bankruptcies                  3335 non-null   float64\n",
      " 17  Tax Liens                     3345 non-null   float64\n",
      "dtypes: float64(11), int64(1), object(6)\n",
      "memory usage: 496.7+ KB\n"
     ]
    }
   ],
   "source": [
    "x_test.info()"
   ]
  },
  {
   "cell_type": "markdown",
   "metadata": {
    "colab_type": "text",
    "id": "3Ub9b0p-EhpG"
   },
   "source": [
    "Data yang masih bolong (Incomplete Data) in Test Dataset:\n",
    "1.   Credit Score\n",
    "2.   Annual Income\n",
    "3.   Years in current job\n",
    "4.   Months since last delinquent\n",
    "\n"
   ]
  },
  {
   "cell_type": "code",
   "execution_count": 0,
   "metadata": {
    "colab": {},
    "colab_type": "code",
    "id": "YmC4xeYmEfAO"
   },
   "outputs": [],
   "source": [
    "# Jadi sekarang kita udah punya 18 Feature yang bisa diengineering, terhadap LOAN STATUS\n",
    "# Loan ID sama Customer ID kelihatannya gak berpengaruh, jadinya bisa kita buang datanya\n",
    "x_train = x_train.drop([\"Loan ID\", \"Customer ID\"], axis=1)\n",
    "x_test = x_test.drop([\"Loan ID\", \"Customer ID\"], axis=1)"
   ]
  },
  {
   "cell_type": "code",
   "execution_count": 0,
   "metadata": {
    "colab": {},
    "colab_type": "code",
    "id": "suWy9iV1HoaC"
   },
   "outputs": [],
   "source": [
    "# cek korelasi Current Loan Amount terhadap Loan Status\n",
    "# fig=plt.figure()\n",
    "# ax = fig.add_axes([0,0,1,1])\n",
    "# plt.scatter(x_train['Current Loan Amount'], y_train)\n",
    "# plt.show()"
   ]
  },
  {
   "cell_type": "markdown",
   "metadata": {
    "colab_type": "text",
    "id": "l0XtnmRpHq3Y"
   },
   "source": [
    "# **PART 2**: Analisis"
   ]
  },
  {
   "cell_type": "markdown",
   "metadata": {
    "colab_type": "text",
    "id": "zJ7kOnUTGm-G"
   },
   "source": [
    "# **PART 3**: Tensorflow"
   ]
  },
  {
   "cell_type": "code",
   "execution_count": 0,
   "metadata": {
    "colab": {},
    "colab_type": "code",
    "id": "syMmNjLTGUuW"
   },
   "outputs": [],
   "source": []
  }
 ],
 "metadata": {
  "colab": {
   "name": "Boilerplate - Assignment 5.ipynb",
   "provenance": [],
   "toc_visible": true
  },
  "kernelspec": {
   "display_name": "Python 3",
   "language": "python",
   "name": "python3"
  },
  "language_info": {
   "codemirror_mode": {
    "name": "ipython",
    "version": 3
   },
   "file_extension": ".py",
   "mimetype": "text/x-python",
   "name": "python",
   "nbconvert_exporter": "python",
   "pygments_lexer": "ipython3",
   "version": "3.7.6"
  }
 },
 "nbformat": 4,
 "nbformat_minor": 1
}
